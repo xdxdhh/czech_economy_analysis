{
 "cells": [
  {
   "cell_type": "code",
   "execution_count": 1,
   "metadata": {},
   "outputs": [],
   "source": [
    "import pandas as pd\n",
    "import numpy as np\n",
    "import matplotlib.pyplot as plt\n",
    "import seaborn as sns\n",
    "from matplotlib.colors import LinearSegmentedColormap"
   ]
  },
  {
   "cell_type": "code",
   "execution_count": 8,
   "metadata": {},
   "outputs": [],
   "source": [
    "ri = pd.read_csv('data/doprava_maloobchod_sluzby.csv', encoding='utf-8') # industrial production index"
   ]
  },
  {
   "cell_type": "code",
   "execution_count": 4,
   "metadata": {},
   "outputs": [
    {
     "data": {
      "text/html": [
       "<div>\n",
       "<style scoped>\n",
       "    .dataframe tbody tr th:only-of-type {\n",
       "        vertical-align: middle;\n",
       "    }\n",
       "\n",
       "    .dataframe tbody tr th {\n",
       "        vertical-align: top;\n",
       "    }\n",
       "\n",
       "    .dataframe thead th {\n",
       "        text-align: right;\n",
       "    }\n",
       "</style>\n",
       "<table border=\"1\" class=\"dataframe\">\n",
       "  <thead>\n",
       "    <tr style=\"text-align: right;\">\n",
       "      <th></th>\n",
       "      <th>idhod</th>\n",
       "      <th>hodnota</th>\n",
       "      <th>stapro_kod</th>\n",
       "      <th>casz_cis</th>\n",
       "      <th>casz_kod</th>\n",
       "      <th>cznace_cis</th>\n",
       "      <th>cznace_kod</th>\n",
       "      <th>oceneni_cis</th>\n",
       "      <th>oceneni_kod</th>\n",
       "      <th>ocisteni_cis</th>\n",
       "      <th>ocisteni_kod</th>\n",
       "      <th>mesic</th>\n",
       "      <th>rok</th>\n",
       "      <th>mesicz</th>\n",
       "      <th>rokz</th>\n",
       "      <th>stapro_txt</th>\n",
       "      <th>casz_txt</th>\n",
       "      <th>cznace_txt</th>\n",
       "      <th>oceneni_txt</th>\n",
       "      <th>ocisteni_txt</th>\n",
       "    </tr>\n",
       "  </thead>\n",
       "  <tbody>\n",
       "    <tr>\n",
       "      <th>0</th>\n",
       "      <td>1263950915</td>\n",
       "      <td>93.8</td>\n",
       "      <td>1007</td>\n",
       "      <td>7626</td>\n",
       "      <td>C</td>\n",
       "      <td>5724</td>\n",
       "      <td>45470001</td>\n",
       "      <td>NaN</td>\n",
       "      <td>NaN</td>\n",
       "      <td>NaN</td>\n",
       "      <td>NaN</td>\n",
       "      <td>4</td>\n",
       "      <td>2010</td>\n",
       "      <td>4.0</td>\n",
       "      <td>2009</td>\n",
       "      <td>Tržby z prodeje výrobků, služeb a zboží</td>\n",
       "      <td>stejné období předchozího roku</td>\n",
       "      <td>Maloobchod (vč.maloobchodního prodeje pohonnýc...</td>\n",
       "      <td>běžné ceny</td>\n",
       "      <td>neočištěno</td>\n",
       "    </tr>\n",
       "    <tr>\n",
       "      <th>1</th>\n",
       "      <td>1264321149</td>\n",
       "      <td>96.9</td>\n",
       "      <td>1007</td>\n",
       "      <td>7626</td>\n",
       "      <td>C</td>\n",
       "      <td>5104</td>\n",
       "      <td>47</td>\n",
       "      <td>NaN</td>\n",
       "      <td>NaN</td>\n",
       "      <td>NaN</td>\n",
       "      <td>NaN</td>\n",
       "      <td>4</td>\n",
       "      <td>2010</td>\n",
       "      <td>4.0</td>\n",
       "      <td>2009</td>\n",
       "      <td>Tržby z prodeje výrobků, služeb a zboží</td>\n",
       "      <td>stejné období předchozího roku</td>\n",
       "      <td>Maloobchod, kromě motorových vozidel</td>\n",
       "      <td>běžné ceny</td>\n",
       "      <td>neočištěno</td>\n",
       "    </tr>\n",
       "    <tr>\n",
       "      <th>2</th>\n",
       "      <td>1264519510</td>\n",
       "      <td>94.7</td>\n",
       "      <td>1007</td>\n",
       "      <td>7626</td>\n",
       "      <td>C</td>\n",
       "      <td>5724</td>\n",
       "      <td>47470001</td>\n",
       "      <td>NaN</td>\n",
       "      <td>NaN</td>\n",
       "      <td>NaN</td>\n",
       "      <td>NaN</td>\n",
       "      <td>4</td>\n",
       "      <td>2010</td>\n",
       "      <td>4.0</td>\n",
       "      <td>2009</td>\n",
       "      <td>Tržby z prodeje výrobků, služeb a zboží</td>\n",
       "      <td>stejné období předchozího roku</td>\n",
       "      <td>Maloobchod s potravinami</td>\n",
       "      <td>běžné ceny</td>\n",
       "      <td>neočištěno</td>\n",
       "    </tr>\n",
       "    <tr>\n",
       "      <th>3</th>\n",
       "      <td>1264147957</td>\n",
       "      <td>119.8</td>\n",
       "      <td>1007</td>\n",
       "      <td>7626</td>\n",
       "      <td>C</td>\n",
       "      <td>5105</td>\n",
       "      <td>473</td>\n",
       "      <td>NaN</td>\n",
       "      <td>NaN</td>\n",
       "      <td>NaN</td>\n",
       "      <td>NaN</td>\n",
       "      <td>4</td>\n",
       "      <td>2010</td>\n",
       "      <td>4.0</td>\n",
       "      <td>2009</td>\n",
       "      <td>Tržby z prodeje výrobků, služeb a zboží</td>\n",
       "      <td>stejné období předchozího roku</td>\n",
       "      <td>Maloobchod s pohonnými hmotami ve specializova...</td>\n",
       "      <td>běžné ceny</td>\n",
       "      <td>neočištěno</td>\n",
       "    </tr>\n",
       "    <tr>\n",
       "      <th>4</th>\n",
       "      <td>1264934195</td>\n",
       "      <td>96.4</td>\n",
       "      <td>1007</td>\n",
       "      <td>7626</td>\n",
       "      <td>C</td>\n",
       "      <td>5105</td>\n",
       "      <td>474</td>\n",
       "      <td>NaN</td>\n",
       "      <td>NaN</td>\n",
       "      <td>NaN</td>\n",
       "      <td>NaN</td>\n",
       "      <td>4</td>\n",
       "      <td>2010</td>\n",
       "      <td>4.0</td>\n",
       "      <td>2009</td>\n",
       "      <td>Tržby z prodeje výrobků, služeb a zboží</td>\n",
       "      <td>stejné období předchozího roku</td>\n",
       "      <td>Maloobchod s počítačovým a komunikačním zaříze...</td>\n",
       "      <td>běžné ceny</td>\n",
       "      <td>neočištěno</td>\n",
       "    </tr>\n",
       "  </tbody>\n",
       "</table>\n",
       "</div>"
      ],
      "text/plain": [
       "        idhod  hodnota  stapro_kod  casz_cis casz_kod  cznace_cis cznace_kod  \\\n",
       "0  1263950915     93.8        1007      7626        C        5724   45470001   \n",
       "1  1264321149     96.9        1007      7626        C        5104         47   \n",
       "2  1264519510     94.7        1007      7626        C        5724   47470001   \n",
       "3  1264147957    119.8        1007      7626        C        5105        473   \n",
       "4  1264934195     96.4        1007      7626        C        5105        474   \n",
       "\n",
       "   oceneni_cis oceneni_kod  ocisteni_cis ocisteni_kod  mesic   rok  mesicz  \\\n",
       "0          NaN         NaN           NaN          NaN      4  2010     4.0   \n",
       "1          NaN         NaN           NaN          NaN      4  2010     4.0   \n",
       "2          NaN         NaN           NaN          NaN      4  2010     4.0   \n",
       "3          NaN         NaN           NaN          NaN      4  2010     4.0   \n",
       "4          NaN         NaN           NaN          NaN      4  2010     4.0   \n",
       "\n",
       "   rokz                               stapro_txt  \\\n",
       "0  2009  Tržby z prodeje výrobků, služeb a zboží   \n",
       "1  2009  Tržby z prodeje výrobků, služeb a zboží   \n",
       "2  2009  Tržby z prodeje výrobků, služeb a zboží   \n",
       "3  2009  Tržby z prodeje výrobků, služeb a zboží   \n",
       "4  2009  Tržby z prodeje výrobků, služeb a zboží   \n",
       "\n",
       "                         casz_txt  \\\n",
       "0  stejné období předchozího roku   \n",
       "1  stejné období předchozího roku   \n",
       "2  stejné období předchozího roku   \n",
       "3  stejné období předchozího roku   \n",
       "4  stejné období předchozího roku   \n",
       "\n",
       "                                          cznace_txt oceneni_txt ocisteni_txt  \n",
       "0  Maloobchod (vč.maloobchodního prodeje pohonnýc...  běžné ceny   neočištěno  \n",
       "1               Maloobchod, kromě motorových vozidel  běžné ceny   neočištěno  \n",
       "2                           Maloobchod s potravinami  běžné ceny   neočištěno  \n",
       "3  Maloobchod s pohonnými hmotami ve specializova...  běžné ceny   neočištěno  \n",
       "4  Maloobchod s počítačovým a komunikačním zaříze...  běžné ceny   neočištěno  "
      ]
     },
     "execution_count": 4,
     "metadata": {},
     "output_type": "execute_result"
    }
   ],
   "source": [
    "ri.head()"
   ]
  },
  {
   "cell_type": "code",
   "execution_count": 9,
   "metadata": {},
   "outputs": [
    {
     "data": {
      "text/plain": [
       "array(['Maloobchod (vč.maloobchodního prodeje pohonných hmot) a prodej a opravy motorových vozidel',\n",
       "       'Maloobchod, kromě motorových vozidel', 'Maloobchod s potravinami',\n",
       "       'Maloobchod s pohonnými hmotami ve specializovaných prodejnách',\n",
       "       'Maloobchod s počítačovým a komunikačním zařízením ve specializovaných prodejnách',\n",
       "       'Maloobchod mimo prodejny, stánky a trhy',\n",
       "       'Maloobchod s nepotravinářským zbožím',\n",
       "       'Maloobchod v nespecializovaných prodejnách',\n",
       "       'Maloobchod s ostatními výrobky převážně pro domácnost ve specializovaných prodejnách',\n",
       "       'Opravy a údržba motorových vozidel, kromě motocyklů',\n",
       "       'Maloobchod s potravinami, nápoji a tabákovými výrobky ve specializovaných prodejnách',\n",
       "       'Maloobchod s výrobky pro kulturní rozhled a rekreaci ve specializovaných prodejnách',\n",
       "       'Maloobchod s ostatním zbožím ve specializovaných prodejnách',\n",
       "       'Velkoobchod, maloobchod a opravy motorových vozidel',\n",
       "       'Obchod s motorovými vozidly; obchod, opravy a údržba motocyklů',\n",
       "       'Maloobchod s převahou potravin, nápojů a tabákových výrobků v nespecializovaných prodejnách',\n",
       "       'Maloobchod ve stáncích a na trzích',\n",
       "       'Ubytování, stravování a pohostinství', 'Ubytování',\n",
       "       'Stravování a pohostinství', 'Pozemní a potrubní doprava',\n",
       "       'Telekomunikační činnosti', 'Poštovní a kurýrní činnosti',\n",
       "       'Informační a komunikační činnosti',\n",
       "       'Činnosti v oblasti informačních technologií',\n",
       "       'Informační činnosti', 'Letecká doprava',\n",
       "       'Tvorba programů a vysílání', 'Vodní doprava',\n",
       "       'Skladování a vedlejší činnosti v dopravě',\n",
       "       'Vydavatelské činnosti', 'Doprava a skladování',\n",
       "       'Činnosti v oblasti filmů, videozáznamů a televizních programů, pořizování zvukových nahrávek a hudební vydavatelské činnosti',\n",
       "       'Architektonické a inženýrské činnosti; technické zkoušky a analýzy',\n",
       "       'Činnosti v oblasti nemovitostí', 'Poradenství v oblasti řízení',\n",
       "       'Úklidové činnosti',\n",
       "       'Činnosti cestovních agentur, kanceláří a jiné rezervační a související činnosti',\n",
       "       'Ostatní profesní, vědecké a technické činnosti',\n",
       "       'Činnosti v oblasti pronájmu a operativního leasingu',\n",
       "       'Bezpečnostní a pátrací činnosti', 'Reklama a průzkum trhu',\n",
       "       'Činnosti související se zaměstnáním',\n",
       "       'Administrativní, kancelářské a jiné podpůrné činnosti pro podnikání',\n",
       "       'Právní a účetnické činnosti',\n",
       "       'Maloobchod kromě maloobchodního prodeje pohonných hmot',\n",
       "       'Obchod, opravy a údržba motorových vozidel a maloobchodní prodej pohonných hmot',\n",
       "       'Ostatní maloobchod v nespecializovaných prodejnách',\n",
       "       'Administrativní a podpůrné činnosti',\n",
       "       'Služby celkem (sekce H, I, J, L, M, N)',\n",
       "       'Profesní, vědecké a technické činnosti',\n",
       "       'Maloobchod s farmaceutickými přípravky a maloobchod se zdravotnickými a ortopedickými výrobky',\n",
       "       'Maloobchod s oděvy a maloobchod s obuví a koženými výrobky',\n",
       "       'Činnosti vedení podniků; poradenství v oblasti řízení',\n",
       "       'Činnosti související se stavbami a úpravou krajiny',\n",
       "       'Maloobchod s kosmetickými a toaletními výrobky',\n",
       "       'Obchod s motorovými vozidly, kromě motocyklů',\n",
       "       'Obchod, opravy a údržba motocyklů, jejich dílů a příslušenství',\n",
       "       'Obchod s díly a příslušenstvím pro motorová vozidla, kromě motocyklů'],\n",
       "      dtype=object)"
      ]
     },
     "execution_count": 9,
     "metadata": {},
     "output_type": "execute_result"
    }
   ],
   "source": [
    "\n",
    "ri['cznace_txt'] = ri['cznace_txt'].str.replace('\\xa0', ' ')\n",
    "ri['cznace_txt'].unique()"
   ]
  },
  {
   "cell_type": "code",
   "execution_count": 10,
   "metadata": {},
   "outputs": [],
   "source": [
    "def get_data(nace, casz, oceneni, ocisteni):\n",
    "    data = ri[ri['cznace_txt'] == nace]\n",
    "    data = data[data['casz_txt'] == casz]\n",
    "    data = data[data['oceneni_txt'] == oceneni]\n",
    "    data = data[data['ocisteni_txt'] == ocisteni]\n",
    "    return data.copy()"
   ]
  },
  {
   "cell_type": "code",
   "execution_count": 11,
   "metadata": {},
   "outputs": [],
   "source": [
    "letani = get_data('Letecká doprava', 'stejné období předchozího roku', 'běžné ceny', 'neočištěno')"
   ]
  },
  {
   "cell_type": "code",
   "execution_count": 16,
   "metadata": {},
   "outputs": [],
   "source": [
    "letani_clean = get_data('Letecká doprava', 'stejné období předchozího roku', 'běžné ceny', 'sezónně očištěno, včetně očištění o kalendářní vlivy')"
   ]
  },
  {
   "cell_type": "code",
   "execution_count": 17,
   "metadata": {},
   "outputs": [],
   "source": [
    "letani_sorted = letani.sort_values(['rok', 'mesic'])\n",
    "letani_clean_sorted = letani_clean.sort_values(['rok', 'mesic'])\n",
    "letani_sorted['datum'] = letani_sorted['mesic'].astype(str) + '/' + letani_sorted['rok'].astype(str)\n",
    "\n",
    "letani_clean_sorted['datum'] = letani_clean_sorted['mesic'].astype(str) + '/' + letani_clean_sorted['rok'].astype(str)"
   ]
  },
  {
   "cell_type": "code",
   "execution_count": 15,
   "metadata": {},
   "outputs": [
    {
     "data": {
      "text/plain": [
       "[<matplotlib.lines.Line2D at 0x7f1bf0183f10>]"
      ]
     },
     "execution_count": 15,
     "metadata": {},
     "output_type": "execute_result"
    },
    {
     "data": {
      "image/png": "[encoded data removed]",
      "text/plain": [
       "<Figure size 640x480 with 1 Axes>"
      ]
     },
     "metadata": {},
     "output_type": "display_data"
    }
   ],
   "source": [
    "plt.plot(letani_sorted['datum'], letani_sorted['hodnota'])"
   ]
  },
  {
   "cell_type": "code",
   "execution_count": 18,
   "metadata": {},
   "outputs": [
    {
     "data": {
      "text/plain": [
       "[<matplotlib.lines.Line2D at 0x7f1bf0ffbe50>]"
      ]
     },
     "execution_count": 18,
     "metadata": {},
     "output_type": "execute_result"
    },
    {
     "data": {
      "image/png": "[encoded data removed]",
      "text/plain": [
       "<Figure size 640x480 with 1 Axes>"
      ]
     },
     "metadata": {},
     "output_type": "display_data"
    }
   ],
   "source": [
    "plt.plot(letani_clean_sorted['datum'], letani_clean_sorted['hodnota'])"
   ]
  },
  {
   "cell_type": "code",
   "execution_count": 20,
   "metadata": {},
   "outputs": [
    {
     "name": "stdout",
     "output_type": "stream",
     "text": [
      "46155    124.2\n",
      "45237    114.6\n",
      "43777    111.4\n",
      "44069    118.1\n",
      "47657    102.0\n",
      "44361    116.6\n",
      "44653    113.2\n",
      "44945    115.1\n",
      "45529    100.7\n",
      "46781     88.1\n",
      "Name: hodnota, dtype: float64\n",
      "46234    122.7\n",
      "45316    113.9\n",
      "43856    110.6\n",
      "44148    118.3\n",
      "47736    103.8\n",
      "44440    117.6\n",
      "44732    112.9\n",
      "45024    114.5\n",
      "45608    101.5\n",
      "46860     89.7\n",
      "Name: hodnota, dtype: float64\n"
     ]
    }
   ],
   "source": [
    "print(letani_sorted['hodnota'][0:10])\n",
    "print(letani_clean_sorted['hodnota'][0:10])"
   ]
  }
 ],
 "metadata": {
  "kernelspec": {
   "display_name": "Python 3",
   "language": "python",
   "name": "python3"
  },
  "language_info": {
   "codemirror_mode": {
    "name": "ipython",
    "version": 3
   },
   "file_extension": ".py",
   "mimetype": "text/x-python",
   "name": "python",
   "nbconvert_exporter": "python",
   "pygments_lexer": "ipython3",
   "version": "3.11.2"
  }
 },
 "nbformat": 4,
 "nbformat_minor": 2
}
